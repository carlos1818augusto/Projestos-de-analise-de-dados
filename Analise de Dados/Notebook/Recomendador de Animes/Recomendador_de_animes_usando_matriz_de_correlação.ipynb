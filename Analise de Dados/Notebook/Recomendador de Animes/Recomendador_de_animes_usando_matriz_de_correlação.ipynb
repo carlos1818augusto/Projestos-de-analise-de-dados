{
  "cells": [
    {
      "cell_type": "markdown",
      "metadata": {
        "colab_type": "text",
        "id": "YfdBiH71mVHj"
      },
      "source": [
        "# Sistema de recomendação de animes\n",
        "\n",
        "Montar um sistema de recomendação de animes com os dados do MyAnimeList.\n",
        "Os animes recomendados são baseados em:\n",
        "\n",
        "* Avaliação de cada usuário\n",
        "* Gênero do anime selecionado\n"
      ]
    },
    {
      "cell_type": "markdown",
      "metadata": {
        "colab_type": "text",
        "id": "ETj0o6ZfnFCo"
      },
      "source": [
        "## Manipulação dos dados"
      ]
    },
    {
      "cell_type": "code",
      "execution_count": 2,
      "metadata": {
        "colab": {},
        "colab_type": "code",
        "id": "-jRzo_ZF4hhG"
      },
      "outputs": [],
      "source": [
        "import pandas as pd\n",
        "import warnings\n",
        "warnings.filterwarnings(\"ignore\")"
      ]
    },
    {
      "cell_type": "code",
      "execution_count": 3,
      "metadata": {
        "colab": {},
        "colab_type": "code",
        "id": "mUTfYOU8m88J"
      },
      "outputs": [],
      "source": [
        "df_anime = pd.read_csv('anime.csv')\n",
        "df_notas = pd.read_csv('rating.csv')"
      ]
    },
    {
      "cell_type": "code",
      "execution_count": 4,
      "metadata": {
        "colab": {
          "base_uri": "https://localhost:8080/",
          "height": 391
        },
        "colab_type": "code",
        "id": "Kw85TYiZqgf6",
        "outputId": "4a15dfe2-33ba-403a-adb6-1ace5910f0c5"
      },
      "outputs": [
        {
          "data": {
            "text/html": [
              "<div>\n",
              "<style scoped>\n",
              "    .dataframe tbody tr th:only-of-type {\n",
              "        vertical-align: middle;\n",
              "    }\n",
              "\n",
              "    .dataframe tbody tr th {\n",
              "        vertical-align: top;\n",
              "    }\n",
              "\n",
              "    .dataframe thead th {\n",
              "        text-align: right;\n",
              "    }\n",
              "</style>\n",
              "<table border=\"1\" class=\"dataframe\">\n",
              "  <thead>\n",
              "    <tr style=\"text-align: right;\">\n",
              "      <th></th>\n",
              "      <th>anime_id</th>\n",
              "      <th>name</th>\n",
              "      <th>genre</th>\n",
              "      <th>type</th>\n",
              "      <th>episodes</th>\n",
              "      <th>rating</th>\n",
              "      <th>members</th>\n",
              "    </tr>\n",
              "  </thead>\n",
              "  <tbody>\n",
              "    <tr>\n",
              "      <th>0</th>\n",
              "      <td>32281</td>\n",
              "      <td>Kimi no Na wa.</td>\n",
              "      <td>Drama, Romance, School, Supernatural</td>\n",
              "      <td>Movie</td>\n",
              "      <td>1</td>\n",
              "      <td>9.37</td>\n",
              "      <td>200630</td>\n",
              "    </tr>\n",
              "    <tr>\n",
              "      <th>1</th>\n",
              "      <td>5114</td>\n",
              "      <td>Fullmetal Alchemist: Brotherhood</td>\n",
              "      <td>Action, Adventure, Drama, Fantasy, Magic, Mili...</td>\n",
              "      <td>TV</td>\n",
              "      <td>64</td>\n",
              "      <td>9.26</td>\n",
              "      <td>793665</td>\n",
              "    </tr>\n",
              "    <tr>\n",
              "      <th>2</th>\n",
              "      <td>28977</td>\n",
              "      <td>Gintama°</td>\n",
              "      <td>Action, Comedy, Historical, Parody, Samurai, S...</td>\n",
              "      <td>TV</td>\n",
              "      <td>51</td>\n",
              "      <td>9.25</td>\n",
              "      <td>114262</td>\n",
              "    </tr>\n",
              "    <tr>\n",
              "      <th>3</th>\n",
              "      <td>9253</td>\n",
              "      <td>Steins;Gate</td>\n",
              "      <td>Sci-Fi, Thriller</td>\n",
              "      <td>TV</td>\n",
              "      <td>24</td>\n",
              "      <td>9.17</td>\n",
              "      <td>673572</td>\n",
              "    </tr>\n",
              "    <tr>\n",
              "      <th>4</th>\n",
              "      <td>9969</td>\n",
              "      <td>Gintama&amp;#039;</td>\n",
              "      <td>Action, Comedy, Historical, Parody, Samurai, S...</td>\n",
              "      <td>TV</td>\n",
              "      <td>51</td>\n",
              "      <td>9.16</td>\n",
              "      <td>151266</td>\n",
              "    </tr>\n",
              "  </tbody>\n",
              "</table>\n",
              "</div>"
            ],
            "text/plain": [
              "   anime_id                              name  ... rating members\n",
              "0     32281                    Kimi no Na wa.  ...   9.37  200630\n",
              "1      5114  Fullmetal Alchemist: Brotherhood  ...   9.26  793665\n",
              "2     28977                          Gintama°  ...   9.25  114262\n",
              "3      9253                       Steins;Gate  ...   9.17  673572\n",
              "4      9969                     Gintama&#039;  ...   9.16  151266\n",
              "\n",
              "[5 rows x 7 columns]"
            ]
          },
          "metadata": {
            "tags": []
          },
          "output_type": "display_data"
        },
        {
          "data": {
            "text/html": [
              "<div>\n",
              "<style scoped>\n",
              "    .dataframe tbody tr th:only-of-type {\n",
              "        vertical-align: middle;\n",
              "    }\n",
              "\n",
              "    .dataframe tbody tr th {\n",
              "        vertical-align: top;\n",
              "    }\n",
              "\n",
              "    .dataframe thead th {\n",
              "        text-align: right;\n",
              "    }\n",
              "</style>\n",
              "<table border=\"1\" class=\"dataframe\">\n",
              "  <thead>\n",
              "    <tr style=\"text-align: right;\">\n",
              "      <th></th>\n",
              "      <th>user_id</th>\n",
              "      <th>anime_id</th>\n",
              "      <th>rating</th>\n",
              "    </tr>\n",
              "  </thead>\n",
              "  <tbody>\n",
              "    <tr>\n",
              "      <th>0</th>\n",
              "      <td>1</td>\n",
              "      <td>20.0</td>\n",
              "      <td>-1.0</td>\n",
              "    </tr>\n",
              "    <tr>\n",
              "      <th>1</th>\n",
              "      <td>1</td>\n",
              "      <td>24.0</td>\n",
              "      <td>-1.0</td>\n",
              "    </tr>\n",
              "    <tr>\n",
              "      <th>2</th>\n",
              "      <td>1</td>\n",
              "      <td>79.0</td>\n",
              "      <td>-1.0</td>\n",
              "    </tr>\n",
              "    <tr>\n",
              "      <th>3</th>\n",
              "      <td>1</td>\n",
              "      <td>226.0</td>\n",
              "      <td>-1.0</td>\n",
              "    </tr>\n",
              "    <tr>\n",
              "      <th>4</th>\n",
              "      <td>1</td>\n",
              "      <td>241.0</td>\n",
              "      <td>-1.0</td>\n",
              "    </tr>\n",
              "  </tbody>\n",
              "</table>\n",
              "</div>"
            ],
            "text/plain": [
              "   user_id  anime_id  rating\n",
              "0        1      20.0    -1.0\n",
              "1        1      24.0    -1.0\n",
              "2        1      79.0    -1.0\n",
              "3        1     226.0    -1.0\n",
              "4        1     241.0    -1.0"
            ]
          },
          "execution_count": 4,
          "metadata": {
            "tags": []
          },
          "output_type": "execute_result"
        }
      ],
      "source": [
        "display(df_anime.head())\n",
        "df_notas.head()"
      ]
    },
    {
      "cell_type": "code",
      "execution_count": 5,
      "metadata": {
        "colab": {
          "base_uri": "https://localhost:8080/",
          "height": 476
        },
        "colab_type": "code",
        "id": "o4-ZdiXg60Jm",
        "outputId": "455aabb5-ecb0-4aeb-87d8-644e026c0054"
      },
      "outputs": [
        {
          "name": "stdout",
          "output_type": "stream",
          "text": [
            "<class 'pandas.core.frame.DataFrame'>\n",
            "RangeIndex: 12294 entries, 0 to 12293\n",
            "Data columns (total 7 columns):\n",
            " #   Column    Non-Null Count  Dtype  \n",
            "---  ------    --------------  -----  \n",
            " 0   anime_id  12294 non-null  int64  \n",
            " 1   name      12294 non-null  object \n",
            " 2   genre     12232 non-null  object \n",
            " 3   type      12269 non-null  object \n",
            " 4   episodes  12294 non-null  object \n",
            " 5   rating    12064 non-null  float64\n",
            " 6   members   12294 non-null  int64  \n",
            "dtypes: float64(1), int64(2), object(4)\n",
            "memory usage: 672.5+ KB\n"
          ]
        },
        {
          "data": {
            "text/plain": [
              "None"
            ]
          },
          "metadata": {
            "tags": []
          },
          "output_type": "display_data"
        },
        {
          "name": "stdout",
          "output_type": "stream",
          "text": [
            "================================================================================\n",
            "<class 'pandas.core.frame.DataFrame'>\n",
            "RangeIndex: 7292434 entries, 0 to 7292433\n",
            "Data columns (total 3 columns):\n",
            " #   Column    Dtype  \n",
            "---  ------    -----  \n",
            " 0   user_id   int64  \n",
            " 1   anime_id  float64\n",
            " 2   rating    float64\n",
            "dtypes: float64(2), int64(1)\n",
            "memory usage: 166.9 MB\n"
          ]
        },
        {
          "data": {
            "text/plain": [
              "None"
            ]
          },
          "metadata": {
            "tags": []
          },
          "output_type": "display_data"
        }
      ],
      "source": [
        "display(df_anime.info())\n",
        "print('=='*40)\n",
        "display(df_notas.info())"
      ]
    },
    {
      "cell_type": "markdown",
      "metadata": {
        "colab_type": "text",
        "id": "Q-cpXkc0DLHJ"
      },
      "source": [
        "Agora uniremos os dois dataframes em um só, pela coluna 'anime_id', excluindo o 'rating' do df_anime (porque o que nos interessa aqui é a nota dada pelo usuário, o 'user_id')"
      ]
    },
    {
      "cell_type": "code",
      "execution_count": 6,
      "metadata": {
        "colab": {
          "base_uri": "https://localhost:8080/",
          "height": 221
        },
        "colab_type": "code",
        "id": "F2VXN9WTnX15",
        "outputId": "62139e01-64b0-4885-e897-fad14345551a"
      },
      "outputs": [
        {
          "name": "stdout",
          "output_type": "stream",
          "text": [
            "(7292423, 8)\n"
          ]
        },
        {
          "data": {
            "text/html": [
              "<div>\n",
              "<style scoped>\n",
              "    .dataframe tbody tr th:only-of-type {\n",
              "        vertical-align: middle;\n",
              "    }\n",
              "\n",
              "    .dataframe tbody tr th {\n",
              "        vertical-align: top;\n",
              "    }\n",
              "\n",
              "    .dataframe thead th {\n",
              "        text-align: right;\n",
              "    }\n",
              "</style>\n",
              "<table border=\"1\" class=\"dataframe\">\n",
              "  <thead>\n",
              "    <tr style=\"text-align: right;\">\n",
              "      <th></th>\n",
              "      <th>user_id</th>\n",
              "      <th>anime_id</th>\n",
              "      <th>rating</th>\n",
              "      <th>name</th>\n",
              "      <th>genre</th>\n",
              "      <th>type</th>\n",
              "      <th>episodes</th>\n",
              "      <th>members</th>\n",
              "    </tr>\n",
              "  </thead>\n",
              "  <tbody>\n",
              "    <tr>\n",
              "      <th>0</th>\n",
              "      <td>1</td>\n",
              "      <td>20.0</td>\n",
              "      <td>-1.0</td>\n",
              "      <td>Naruto</td>\n",
              "      <td>Action, Comedy, Martial Arts, Shounen, Super P...</td>\n",
              "      <td>TV</td>\n",
              "      <td>220</td>\n",
              "      <td>683297</td>\n",
              "    </tr>\n",
              "    <tr>\n",
              "      <th>1</th>\n",
              "      <td>3</td>\n",
              "      <td>20.0</td>\n",
              "      <td>8.0</td>\n",
              "      <td>Naruto</td>\n",
              "      <td>Action, Comedy, Martial Arts, Shounen, Super P...</td>\n",
              "      <td>TV</td>\n",
              "      <td>220</td>\n",
              "      <td>683297</td>\n",
              "    </tr>\n",
              "    <tr>\n",
              "      <th>2</th>\n",
              "      <td>5</td>\n",
              "      <td>20.0</td>\n",
              "      <td>6.0</td>\n",
              "      <td>Naruto</td>\n",
              "      <td>Action, Comedy, Martial Arts, Shounen, Super P...</td>\n",
              "      <td>TV</td>\n",
              "      <td>220</td>\n",
              "      <td>683297</td>\n",
              "    </tr>\n",
              "    <tr>\n",
              "      <th>3</th>\n",
              "      <td>6</td>\n",
              "      <td>20.0</td>\n",
              "      <td>-1.0</td>\n",
              "      <td>Naruto</td>\n",
              "      <td>Action, Comedy, Martial Arts, Shounen, Super P...</td>\n",
              "      <td>TV</td>\n",
              "      <td>220</td>\n",
              "      <td>683297</td>\n",
              "    </tr>\n",
              "    <tr>\n",
              "      <th>4</th>\n",
              "      <td>10</td>\n",
              "      <td>20.0</td>\n",
              "      <td>-1.0</td>\n",
              "      <td>Naruto</td>\n",
              "      <td>Action, Comedy, Martial Arts, Shounen, Super P...</td>\n",
              "      <td>TV</td>\n",
              "      <td>220</td>\n",
              "      <td>683297</td>\n",
              "    </tr>\n",
              "  </tbody>\n",
              "</table>\n",
              "</div>"
            ],
            "text/plain": [
              "   user_id  anime_id  rating  ... type episodes members\n",
              "0        1      20.0    -1.0  ...   TV      220  683297\n",
              "1        3      20.0     8.0  ...   TV      220  683297\n",
              "2        5      20.0     6.0  ...   TV      220  683297\n",
              "3        6      20.0    -1.0  ...   TV      220  683297\n",
              "4       10      20.0    -1.0  ...   TV      220  683297\n",
              "\n",
              "[5 rows x 8 columns]"
            ]
          },
          "execution_count": 6,
          "metadata": {
            "tags": []
          },
          "output_type": "execute_result"
        }
      ],
      "source": [
        "df = pd.merge(df_notas, df_anime.drop('rating', axis=1),on='anime_id' )\n",
        "print(df.shape)\n",
        "df.head()"
      ]
    },
    {
      "cell_type": "code",
      "execution_count": 6,
      "metadata": {
        "colab": {},
        "colab_type": "code",
        "id": "uRq410mphL1K"
      },
      "outputs": [],
      "source": []
    },
    {
      "cell_type": "markdown",
      "metadata": {
        "colab_type": "text",
        "id": "J1zeQxcaDf43"
      },
      "source": [
        "Fazer um agrupamento dos animes pelo nome, e pegar a contagem das avaliações. Com isso, teremos os animes com mais avaliações (não as maiores avaliações, mas aqueles com mais QUANTIDADE DE VOTOS, sejam eles altos ou baixos).\n",
        "\n",
        "Depois de pegar esses animes, apenas os colocaremos em ordem descrescente, colocando depois do código um:\n",
        "\n",
        "```\n",
        ".sort_values(ascending=False)\n",
        "```\n",
        "\n"
      ]
    },
    {
      "cell_type": "code",
      "execution_count": 35,
      "metadata": {
        "colab": {
          "base_uri": "https://localhost:8080/",
          "height": 238
        },
        "colab_type": "code",
        "id": "PY_2tdCU5JOt",
        "outputId": "17388724-96e9-420b-c164-8c10069f9a14"
      },
      "outputs": [
        {
          "data": {
            "text/plain": [
              "name\n",
              "Death Note                                                                                            36400\n",
              "Sword Art Online                                                                                      27753\n",
              "Shingeki no Kyojin                                                                                    26739\n",
              "Code Geass: Hangyaku no Lelouch                                                                       25826\n",
              "Elfen Lied                                                                                            25619\n",
              "                                                                                                      ...  \n",
              "Ryuugajou Nanana no Maizoukin (TV)                                                                     3283\n",
              "Seirei Tsukai no Blade Dance                                                                           3279\n",
              "Sengoku Basara                                                                                         3265\n",
              "Dragon Ball Z Movie 12: Fukkatsu no Fusion!! Gokuu to Vegeta                                           3263\n",
              "Naruto: Dai Katsugeki!! Yuki Hime Shinobu Houjou Dattebayo! Special: Konoha Annual Sports Festival     3261\n",
              "Name: rating, Length: 600, dtype: int64"
            ]
          },
          "execution_count": 35,
          "metadata": {
            "tags": []
          },
          "output_type": "execute_result"
        }
      ],
      "source": [
        "df.groupby('name')['rating'].count().sort_values(ascending=False).head(600)"
      ]
    },
    {
      "cell_type": "markdown",
      "metadata": {
        "colab_type": "text",
        "id": "pgPWu25XE2Tz"
      },
      "source": [
        "Depois disso, criaremos um dataframe para a média das notas:\n",
        "Criar o dataframe\n",
        "Criar uma coluna com os números de avaliações (as quantidades)\n",
        "Criar uma coluna com as médias de avaliações"
      ]
    },
    {
      "cell_type": "code",
      "execution_count": 8,
      "metadata": {
        "colab": {
          "base_uri": "https://localhost:8080/",
          "height": 450
        },
        "colab_type": "code",
        "id": "YlReoyXJ58Sl",
        "outputId": "c1b8e6a6-c601-4428-9c2e-dfea2900b67f"
      },
      "outputs": [
        {
          "data": {
            "text/html": [
              "<div>\n",
              "<style scoped>\n",
              "    .dataframe tbody tr th:only-of-type {\n",
              "        vertical-align: middle;\n",
              "    }\n",
              "\n",
              "    .dataframe tbody tr th {\n",
              "        vertical-align: top;\n",
              "    }\n",
              "\n",
              "    .dataframe thead th {\n",
              "        text-align: right;\n",
              "    }\n",
              "</style>\n",
              "<table border=\"1\" class=\"dataframe\">\n",
              "  <thead>\n",
              "    <tr style=\"text-align: right;\">\n",
              "      <th></th>\n",
              "      <th>rating</th>\n",
              "      <th>numero de avaliações</th>\n",
              "      <th>avaliação média</th>\n",
              "    </tr>\n",
              "    <tr>\n",
              "      <th>name</th>\n",
              "      <th></th>\n",
              "      <th></th>\n",
              "      <th></th>\n",
              "    </tr>\n",
              "  </thead>\n",
              "  <tbody>\n",
              "    <tr>\n",
              "      <th>&amp;quot;0&amp;quot;</th>\n",
              "      <td>2.800000</td>\n",
              "      <td>25</td>\n",
              "      <td>2.80</td>\n",
              "    </tr>\n",
              "    <tr>\n",
              "      <th>&amp;quot;Aesop&amp;quot; no Ohanashi yori: Ushi to Kaeru, Yokubatta Inu</th>\n",
              "      <td>0.000000</td>\n",
              "      <td>2</td>\n",
              "      <td>0.00</td>\n",
              "    </tr>\n",
              "    <tr>\n",
              "      <th>&amp;quot;Bungaku Shoujo&amp;quot; Kyou no Oyatsu: Hatsukoi</th>\n",
              "      <td>5.822581</td>\n",
              "      <td>744</td>\n",
              "      <td>5.82</td>\n",
              "    </tr>\n",
              "    <tr>\n",
              "      <th>&amp;quot;Bungaku Shoujo&amp;quot; Memoire</th>\n",
              "      <td>6.165580</td>\n",
              "      <td>767</td>\n",
              "      <td>6.17</td>\n",
              "    </tr>\n",
              "    <tr>\n",
              "      <th>&amp;quot;Bungaku Shoujo&amp;quot; Movie</th>\n",
              "      <td>6.475296</td>\n",
              "      <td>1437</td>\n",
              "      <td>6.48</td>\n",
              "    </tr>\n",
              "    <tr>\n",
              "      <th>...</th>\n",
              "      <td>...</td>\n",
              "      <td>...</td>\n",
              "      <td>...</td>\n",
              "    </tr>\n",
              "    <tr>\n",
              "      <th>xxxHOLiC Kei</th>\n",
              "      <td>6.743661</td>\n",
              "      <td>3234</td>\n",
              "      <td>6.74</td>\n",
              "    </tr>\n",
              "    <tr>\n",
              "      <th>xxxHOLiC Movie: Manatsu no Yoru no Yume</th>\n",
              "      <td>6.340979</td>\n",
              "      <td>2267</td>\n",
              "      <td>6.34</td>\n",
              "    </tr>\n",
              "    <tr>\n",
              "      <th>xxxHOLiC Rou</th>\n",
              "      <td>6.445607</td>\n",
              "      <td>1434</td>\n",
              "      <td>6.45</td>\n",
              "    </tr>\n",
              "    <tr>\n",
              "      <th>xxxHOLiC Shunmuki</th>\n",
              "      <td>6.260522</td>\n",
              "      <td>1877</td>\n",
              "      <td>6.26</td>\n",
              "    </tr>\n",
              "    <tr>\n",
              "      <th>◯</th>\n",
              "      <td>3.000000</td>\n",
              "      <td>6</td>\n",
              "      <td>3.00</td>\n",
              "    </tr>\n",
              "  </tbody>\n",
              "</table>\n",
              "<p>11192 rows × 3 columns</p>\n",
              "</div>"
            ],
            "text/plain": [
              "                                                      rating  ...  avaliação média\n",
              "name                                                          ...                 \n",
              "&quot;0&quot;                                       2.800000  ...             2.80\n",
              "&quot;Aesop&quot; no Ohanashi yori: Ushi to Kae...  0.000000  ...             0.00\n",
              "&quot;Bungaku Shoujo&quot; Kyou no Oyatsu: Hats...  5.822581  ...             5.82\n",
              "&quot;Bungaku Shoujo&quot; Memoire                  6.165580  ...             6.17\n",
              "&quot;Bungaku Shoujo&quot; Movie                    6.475296  ...             6.48\n",
              "...                                                      ...  ...              ...\n",
              "xxxHOLiC Kei                                        6.743661  ...             6.74\n",
              "xxxHOLiC Movie: Manatsu no Yoru no Yume             6.340979  ...             6.34\n",
              "xxxHOLiC Rou                                        6.445607  ...             6.45\n",
              "xxxHOLiC Shunmuki                                   6.260522  ...             6.26\n",
              "◯                                                   3.000000  ...             3.00\n",
              "\n",
              "[11192 rows x 3 columns]"
            ]
          },
          "execution_count": 8,
          "metadata": {
            "tags": []
          },
          "output_type": "execute_result"
        }
      ],
      "source": [
        "notas = pd.DataFrame(df.groupby('name')['rating'].mean())\n",
        "notas['numero de avaliações'] = pd.DataFrame(df.groupby('name')['rating'].count())\n",
        "notas['avaliação média'] = pd.DataFrame(df.groupby('name')['rating'].mean().round(2))\n",
        "notas"
      ]
    },
    {
      "cell_type": "markdown",
      "metadata": {
        "colab_type": "text",
        "id": "qOVz9vTxFN-F"
      },
      "source": [
        "Agora criar um novo dataframe para os generos, usando o nome e o genero dos animes no df_anime original,\n",
        "Depois colocar o nome do anime como indice do dataframe do genero"
      ]
    },
    {
      "cell_type": "code",
      "execution_count": 9,
      "metadata": {
        "colab": {
          "base_uri": "https://localhost:8080/",
          "height": 450
        },
        "colab_type": "code",
        "id": "DEnKhRK17P2U",
        "outputId": "a2bc228d-3e6e-4733-fc9b-e7223cbabde4"
      },
      "outputs": [
        {
          "data": {
            "text/html": [
              "<div>\n",
              "<style scoped>\n",
              "    .dataframe tbody tr th:only-of-type {\n",
              "        vertical-align: middle;\n",
              "    }\n",
              "\n",
              "    .dataframe tbody tr th {\n",
              "        vertical-align: top;\n",
              "    }\n",
              "\n",
              "    .dataframe thead th {\n",
              "        text-align: right;\n",
              "    }\n",
              "</style>\n",
              "<table border=\"1\" class=\"dataframe\">\n",
              "  <thead>\n",
              "    <tr style=\"text-align: right;\">\n",
              "      <th></th>\n",
              "      <th>genre</th>\n",
              "    </tr>\n",
              "    <tr>\n",
              "      <th>name</th>\n",
              "      <th></th>\n",
              "    </tr>\n",
              "  </thead>\n",
              "  <tbody>\n",
              "    <tr>\n",
              "      <th>Kimi no Na wa.</th>\n",
              "      <td>Drama, Romance, School, Supernatural</td>\n",
              "    </tr>\n",
              "    <tr>\n",
              "      <th>Fullmetal Alchemist: Brotherhood</th>\n",
              "      <td>Action, Adventure, Drama, Fantasy, Magic, Mili...</td>\n",
              "    </tr>\n",
              "    <tr>\n",
              "      <th>Gintama°</th>\n",
              "      <td>Action, Comedy, Historical, Parody, Samurai, S...</td>\n",
              "    </tr>\n",
              "    <tr>\n",
              "      <th>Steins;Gate</th>\n",
              "      <td>Sci-Fi, Thriller</td>\n",
              "    </tr>\n",
              "    <tr>\n",
              "      <th>Gintama&amp;#039;</th>\n",
              "      <td>Action, Comedy, Historical, Parody, Samurai, S...</td>\n",
              "    </tr>\n",
              "    <tr>\n",
              "      <th>...</th>\n",
              "      <td>...</td>\n",
              "    </tr>\n",
              "    <tr>\n",
              "      <th>Toushindai My Lover: Minami tai Mecha-Minami</th>\n",
              "      <td>Hentai</td>\n",
              "    </tr>\n",
              "    <tr>\n",
              "      <th>Under World</th>\n",
              "      <td>Hentai</td>\n",
              "    </tr>\n",
              "    <tr>\n",
              "      <th>Violence Gekiga David no Hoshi</th>\n",
              "      <td>Hentai</td>\n",
              "    </tr>\n",
              "    <tr>\n",
              "      <th>Violence Gekiga Shin David no Hoshi: Inma Densetsu</th>\n",
              "      <td>Hentai</td>\n",
              "    </tr>\n",
              "    <tr>\n",
              "      <th>Yasuji no Pornorama: Yacchimae!!</th>\n",
              "      <td>Hentai</td>\n",
              "    </tr>\n",
              "  </tbody>\n",
              "</table>\n",
              "<p>12294 rows × 1 columns</p>\n",
              "</div>"
            ],
            "text/plain": [
              "                                                                                                genre\n",
              "name                                                                                                 \n",
              "Kimi no Na wa.                                                   Drama, Romance, School, Supernatural\n",
              "Fullmetal Alchemist: Brotherhood                    Action, Adventure, Drama, Fantasy, Magic, Mili...\n",
              "Gintama°                                            Action, Comedy, Historical, Parody, Samurai, S...\n",
              "Steins;Gate                                                                          Sci-Fi, Thriller\n",
              "Gintama&#039;                                       Action, Comedy, Historical, Parody, Samurai, S...\n",
              "...                                                                                               ...\n",
              "Toushindai My Lover: Minami tai Mecha-Minami                                                   Hentai\n",
              "Under World                                                                                    Hentai\n",
              "Violence Gekiga David no Hoshi                                                                 Hentai\n",
              "Violence Gekiga Shin David no Hoshi: Inma Densetsu                                             Hentai\n",
              "Yasuji no Pornorama: Yacchimae!!                                                               Hentai\n",
              "\n",
              "[12294 rows x 1 columns]"
            ]
          },
          "execution_count": 9,
          "metadata": {
            "tags": []
          },
          "output_type": "execute_result"
        }
      ],
      "source": [
        "genero = pd.DataFrame(data=df_anime[['name','genre']])\n",
        "genero.set_index('name', inplace=True)\n",
        "genero"
      ]
    },
    {
      "cell_type": "markdown",
      "metadata": {
        "colab_type": "text",
        "id": "V3CHgM-RFfkR"
      },
      "source": [
        "## Sistema de recomendação\n",
        "\n",
        "---\n",
        "Agora que já limpamos e organizamos os dados, é hora de criar o sistema de recomendação\n"
      ]
    },
    {
      "cell_type": "code",
      "execution_count": 36,
      "metadata": {
        "colab": {},
        "colab_type": "code",
        "id": "G1vALXKNfo4T"
      },
      "outputs": [],
      "source": [
        "#O primeiro passo é criar uma função para verificar o genero do anime, essa função será usado dentro do nosso sistema\n",
        "def verificar_genero(lista_genero, string): #Definir a função, as variaveis são a lista de genero e uma string\n",
        "    if any(x in string for x in lista_genero): #Se existir um x nessa string que está dentro da lista de generos\n",
        "        return True #Vai retornar True\n",
        "    else: #Se não\n",
        "        return False #Vai retornar False\n",
        "\n",
        "#Agora é o sistema de recomendação\n",
        "\n",
        "\n",
        "#Definir a função para recomendar o anime, usando como variável o nome do anime e o número n de animes que será recomendado\n",
        "def recomendar_anime(nome_do_anime, n):\n",
        "\n",
        "    #Localizar o anime escolhido dentro do dataframe genero que criamos lá em cima, depois pegar os valores contidos nessa série e splitar\n",
        "    genero_anime = genero.loc[nome_do_anime].values[0].split(', ')\n",
        "    \n",
        "    #Colocar o nome dos animes do mesmo gênero que o escolhido e colocar numa lista\n",
        "    cols = df_anime[df_anime['genre'].apply(lambda x: verificar_genero(genero_anime, str(x)))]['name'].tolist()\n",
        "\n",
        "    #Pegar o nome dos animes que foram selecionados e fazer uma pivot_table com o df (que foi unido lá em cima) e a nota que cada usuário deu pra esse anime\n",
        "    matriz_de_animes = df[df['name'].isin(cols)].pivot_table(index='user_id', columns='name', values='rating')\n",
        "\n",
        "    #Verificar a nota de cada usuário para aquele anime selecionado\n",
        "    anime_nota = matriz_de_animes[nome_do_anime]\n",
        "\n",
        "    #Fazer a correlação entre os nomes dos animes e suas notas\n",
        "    anime_parecido = matriz_de_animes.corrwith(anime_nota)\n",
        "\n",
        "    #Criar um dataframe com essa correlação e colocar numa coluna 'correlação'\n",
        "    anime_correlacionado = pd.DataFrame(anime_parecido, columns=['correlação'])\n",
        "\n",
        "    #Pegar o dataframe de notas que criamos lá em cima e selecionar as colunas de numero de avaliações e avaliação média\n",
        "    anime_correlacionado = anime_correlacionado.join(notas[['numero de avaliações', 'avaliação média']])\n",
        "\n",
        "    #Excluir os dados nulos\n",
        "    anime_correlacionado.dropna(inplace=True)\n",
        "\n",
        "    #Selecionar apenas os animes com número de avaliação maior que 5 mil, colocá-los em ordem descrescente\n",
        "    animes_recomendados = anime_correlacionado[anime_correlacionado['numero de avaliações'] > 3000].sort_values('correlação', ascending=False)\n",
        "\n",
        "    #Criar nosso dataframe final, que vai ser a tabela dos animes recomendados\n",
        "    animes_recomendados= animes_recomendados.rename_axis('Animes recomendados')\n",
        "    print(f'Anime escolhido: {nome_do_anime}')\n",
        "    return animes_recomendados.head(n+1)"
      ]
    },
    {
      "cell_type": "markdown",
      "metadata": {
        "colab_type": "text",
        "id": "oT3KycnP74Di"
      },
      "source": [
        "E aqui está nosso sistema de recomendação de animes. Agora vamos testar!!\n",
        "\n",
        "Escolherei os 5 animes com mais avaliações"
      ]
    },
    {
      "cell_type": "code",
      "execution_count": 11,
      "metadata": {
        "colab": {
          "base_uri": "https://localhost:8080/",
          "height": 136
        },
        "colab_type": "code",
        "id": "9UsugGpTkA6G",
        "outputId": "3ce300c1-a629-4674-fe13-65e10d9442c0"
      },
      "outputs": [
        {
          "data": {
            "text/plain": [
              "name\n",
              "Death Note                         36400\n",
              "Sword Art Online                   27753\n",
              "Shingeki no Kyojin                 26739\n",
              "Code Geass: Hangyaku no Lelouch    25826\n",
              "Elfen Lied                         25619\n",
              "Name: rating, dtype: int64"
            ]
          },
          "execution_count": 11,
          "metadata": {
            "tags": []
          },
          "output_type": "execute_result"
        }
      ],
      "source": [
        "df.groupby('name')['rating'].count().sort_values(ascending=False).head()"
      ]
    },
    {
      "cell_type": "code",
      "execution_count": 37,
      "metadata": {
        "colab": {
          "base_uri": "https://localhost:8080/",
          "height": 283
        },
        "colab_type": "code",
        "id": "ddyyfeKQkGo1",
        "outputId": "970c721f-3515-400e-8ada-ea03c80f1405"
      },
      "outputs": [
        {
          "name": "stdout",
          "output_type": "stream",
          "text": [
            "Anime escolhido: Death Note\n"
          ]
        },
        {
          "data": {
            "text/html": [
              "<div>\n",
              "<style scoped>\n",
              "    .dataframe tbody tr th:only-of-type {\n",
              "        vertical-align: middle;\n",
              "    }\n",
              "\n",
              "    .dataframe tbody tr th {\n",
              "        vertical-align: top;\n",
              "    }\n",
              "\n",
              "    .dataframe thead th {\n",
              "        text-align: right;\n",
              "    }\n",
              "</style>\n",
              "<table border=\"1\" class=\"dataframe\">\n",
              "  <thead>\n",
              "    <tr style=\"text-align: right;\">\n",
              "      <th></th>\n",
              "      <th>correlação</th>\n",
              "      <th>numero de avaliações</th>\n",
              "      <th>avaliação média</th>\n",
              "    </tr>\n",
              "    <tr>\n",
              "      <th>Animes recomendados</th>\n",
              "      <th></th>\n",
              "      <th></th>\n",
              "      <th></th>\n",
              "    </tr>\n",
              "  </thead>\n",
              "  <tbody>\n",
              "    <tr>\n",
              "      <th>Death Note</th>\n",
              "      <td>1.000000</td>\n",
              "      <td>36400</td>\n",
              "      <td>7.56</td>\n",
              "    </tr>\n",
              "    <tr>\n",
              "      <th>Claymore</th>\n",
              "      <td>0.710327</td>\n",
              "      <td>11518</td>\n",
              "      <td>6.84</td>\n",
              "    </tr>\n",
              "    <tr>\n",
              "      <th>Higurashi no Naku Koro ni Kai</th>\n",
              "      <td>0.707356</td>\n",
              "      <td>8678</td>\n",
              "      <td>7.11</td>\n",
              "    </tr>\n",
              "    <tr>\n",
              "      <th>Blood+</th>\n",
              "      <td>0.706640</td>\n",
              "      <td>7109</td>\n",
              "      <td>6.48</td>\n",
              "    </tr>\n",
              "    <tr>\n",
              "      <th>Darker than Black: Kuro no Keiyakusha</th>\n",
              "      <td>0.703644</td>\n",
              "      <td>14608</td>\n",
              "      <td>7.02</td>\n",
              "    </tr>\n",
              "    <tr>\n",
              "      <th>Beelzebub</th>\n",
              "      <td>0.701573</td>\n",
              "      <td>5433</td>\n",
              "      <td>6.60</td>\n",
              "    </tr>\n",
              "  </tbody>\n",
              "</table>\n",
              "</div>"
            ],
            "text/plain": [
              "                                       correlação  ...  avaliação média\n",
              "Animes recomendados                                ...                 \n",
              "Death Note                               1.000000  ...             7.56\n",
              "Claymore                                 0.710327  ...             6.84\n",
              "Higurashi no Naku Koro ni Kai            0.707356  ...             7.11\n",
              "Blood+                                   0.706640  ...             6.48\n",
              "Darker than Black: Kuro no Keiyakusha    0.703644  ...             7.02\n",
              "Beelzebub                                0.701573  ...             6.60\n",
              "\n",
              "[6 rows x 3 columns]"
            ]
          },
          "execution_count": 37,
          "metadata": {
            "tags": []
          },
          "output_type": "execute_result"
        }
      ],
      "source": [
        "recomendar_anime('Death Note', 5)"
      ]
    },
    {
      "cell_type": "code",
      "execution_count": 38,
      "metadata": {
        "colab": {
          "base_uri": "https://localhost:8080/",
          "height": 283
        },
        "colab_type": "code",
        "id": "6qB3kLZHkNmk",
        "outputId": "fc125106-208b-4195-ae36-2d77c0aeea6a"
      },
      "outputs": [
        {
          "name": "stdout",
          "output_type": "stream",
          "text": [
            "Anime escolhido: Sword Art Online\n"
          ]
        },
        {
          "data": {
            "text/html": [
              "<div>\n",
              "<style scoped>\n",
              "    .dataframe tbody tr th:only-of-type {\n",
              "        vertical-align: middle;\n",
              "    }\n",
              "\n",
              "    .dataframe tbody tr th {\n",
              "        vertical-align: top;\n",
              "    }\n",
              "\n",
              "    .dataframe thead th {\n",
              "        text-align: right;\n",
              "    }\n",
              "</style>\n",
              "<table border=\"1\" class=\"dataframe\">\n",
              "  <thead>\n",
              "    <tr style=\"text-align: right;\">\n",
              "      <th></th>\n",
              "      <th>correlação</th>\n",
              "      <th>numero de avaliações</th>\n",
              "      <th>avaliação média</th>\n",
              "    </tr>\n",
              "    <tr>\n",
              "      <th>Animes recomendados</th>\n",
              "      <th></th>\n",
              "      <th></th>\n",
              "      <th></th>\n",
              "    </tr>\n",
              "  </thead>\n",
              "  <tbody>\n",
              "    <tr>\n",
              "      <th>Sword Art Online</th>\n",
              "      <td>1.000000</td>\n",
              "      <td>27753</td>\n",
              "      <td>6.88</td>\n",
              "    </tr>\n",
              "    <tr>\n",
              "      <th>Sword Art Online II</th>\n",
              "      <td>0.753359</td>\n",
              "      <td>12211</td>\n",
              "      <td>6.18</td>\n",
              "    </tr>\n",
              "    <tr>\n",
              "      <th>Koi to Senkyo to Chocolate</th>\n",
              "      <td>0.735017</td>\n",
              "      <td>3050</td>\n",
              "      <td>5.99</td>\n",
              "    </tr>\n",
              "    <tr>\n",
              "      <th>Oda Nobuna no Yabou</th>\n",
              "      <td>0.731385</td>\n",
              "      <td>4644</td>\n",
              "      <td>6.38</td>\n",
              "    </tr>\n",
              "    <tr>\n",
              "      <th>Btooom!</th>\n",
              "      <td>0.729014</td>\n",
              "      <td>11061</td>\n",
              "      <td>6.46</td>\n",
              "    </tr>\n",
              "    <tr>\n",
              "      <th>Zero no Tsukaima F</th>\n",
              "      <td>0.728047</td>\n",
              "      <td>6723</td>\n",
              "      <td>6.20</td>\n",
              "    </tr>\n",
              "  </tbody>\n",
              "</table>\n",
              "</div>"
            ],
            "text/plain": [
              "                            correlação  numero de avaliações  avaliação média\n",
              "Animes recomendados                                                          \n",
              "Sword Art Online              1.000000                 27753             6.88\n",
              "Sword Art Online II           0.753359                 12211             6.18\n",
              "Koi to Senkyo to Chocolate    0.735017                  3050             5.99\n",
              "Oda Nobuna no Yabou           0.731385                  4644             6.38\n",
              "Btooom!                       0.729014                 11061             6.46\n",
              "Zero no Tsukaima F            0.728047                  6723             6.20"
            ]
          },
          "execution_count": 38,
          "metadata": {
            "tags": []
          },
          "output_type": "execute_result"
        }
      ],
      "source": [
        "recomendar_anime('Sword Art Online',5)"
      ]
    },
    {
      "cell_type": "code",
      "execution_count": 14,
      "metadata": {
        "colab": {
          "base_uri": "https://localhost:8080/",
          "height": 283
        },
        "colab_type": "code",
        "id": "9PC0tPpBklrH",
        "outputId": "e119784a-05fe-4dae-cfe4-59c9749f71fb"
      },
      "outputs": [
        {
          "name": "stdout",
          "output_type": "stream",
          "text": [
            "Anime escolhido: Shingeki no Kyojin\n"
          ]
        },
        {
          "data": {
            "text/html": [
              "<div>\n",
              "<style scoped>\n",
              "    .dataframe tbody tr th:only-of-type {\n",
              "        vertical-align: middle;\n",
              "    }\n",
              "\n",
              "    .dataframe tbody tr th {\n",
              "        vertical-align: top;\n",
              "    }\n",
              "\n",
              "    .dataframe thead th {\n",
              "        text-align: right;\n",
              "    }\n",
              "</style>\n",
              "<table border=\"1\" class=\"dataframe\">\n",
              "  <thead>\n",
              "    <tr style=\"text-align: right;\">\n",
              "      <th></th>\n",
              "      <th>correlação</th>\n",
              "      <th>numero de avaliações</th>\n",
              "      <th>avaliação média</th>\n",
              "    </tr>\n",
              "    <tr>\n",
              "      <th>Animes recomendados</th>\n",
              "      <th></th>\n",
              "      <th></th>\n",
              "      <th></th>\n",
              "    </tr>\n",
              "  </thead>\n",
              "  <tbody>\n",
              "    <tr>\n",
              "      <th>Shingeki no Kyojin</th>\n",
              "      <td>1.000000</td>\n",
              "      <td>26739</td>\n",
              "      <td>7.32</td>\n",
              "    </tr>\n",
              "    <tr>\n",
              "      <th>Suisei no Gargantia</th>\n",
              "      <td>0.758896</td>\n",
              "      <td>6001</td>\n",
              "      <td>6.36</td>\n",
              "    </tr>\n",
              "    <tr>\n",
              "      <th>Kami nomi zo Shiru Sekai: Megami-hen</th>\n",
              "      <td>0.748214</td>\n",
              "      <td>5287</td>\n",
              "      <td>6.82</td>\n",
              "    </tr>\n",
              "    <tr>\n",
              "      <th>Blood Lad</th>\n",
              "      <td>0.740993</td>\n",
              "      <td>7825</td>\n",
              "      <td>6.09</td>\n",
              "    </tr>\n",
              "    <tr>\n",
              "      <th>Maoyuu Maou Yuusha</th>\n",
              "      <td>0.733103</td>\n",
              "      <td>5311</td>\n",
              "      <td>6.03</td>\n",
              "    </tr>\n",
              "    <tr>\n",
              "      <th>Danganronpa: Kibou no Gakuen to Zetsubou no Koukousei The Animation</th>\n",
              "      <td>0.725263</td>\n",
              "      <td>9238</td>\n",
              "      <td>5.99</td>\n",
              "    </tr>\n",
              "  </tbody>\n",
              "</table>\n",
              "</div>"
            ],
            "text/plain": [
              "                                                    correlação  ...  avaliação média\n",
              "Animes recomendados                                             ...                 \n",
              "Shingeki no Kyojin                                    1.000000  ...             7.32\n",
              "Suisei no Gargantia                                   0.758896  ...             6.36\n",
              "Kami nomi zo Shiru Sekai: Megami-hen                  0.748214  ...             6.82\n",
              "Blood Lad                                             0.740993  ...             6.09\n",
              "Maoyuu Maou Yuusha                                    0.733103  ...             6.03\n",
              "Danganronpa: Kibou no Gakuen to Zetsubou no Kou...    0.725263  ...             5.99\n",
              "\n",
              "[6 rows x 3 columns]"
            ]
          },
          "execution_count": 14,
          "metadata": {
            "tags": []
          },
          "output_type": "execute_result"
        }
      ],
      "source": [
        "recomendar_anime('Shingeki no Kyojin',5)"
      ]
    },
    {
      "cell_type": "code",
      "execution_count": 15,
      "metadata": {
        "colab": {
          "base_uri": "https://localhost:8080/",
          "height": 283
        },
        "colab_type": "code",
        "id": "h2EJOMkgksI8",
        "outputId": "ab9b2f72-b9e2-4a61-971f-f0b55cf2a98b"
      },
      "outputs": [
        {
          "name": "stdout",
          "output_type": "stream",
          "text": [
            "Anime escolhido: Code Geass: Hangyaku no Lelouch\n"
          ]
        },
        {
          "data": {
            "text/html": [
              "<div>\n",
              "<style scoped>\n",
              "    .dataframe tbody tr th:only-of-type {\n",
              "        vertical-align: middle;\n",
              "    }\n",
              "\n",
              "    .dataframe tbody tr th {\n",
              "        vertical-align: top;\n",
              "    }\n",
              "\n",
              "    .dataframe thead th {\n",
              "        text-align: right;\n",
              "    }\n",
              "</style>\n",
              "<table border=\"1\" class=\"dataframe\">\n",
              "  <thead>\n",
              "    <tr style=\"text-align: right;\">\n",
              "      <th></th>\n",
              "      <th>correlação</th>\n",
              "      <th>numero de avaliações</th>\n",
              "      <th>avaliação média</th>\n",
              "    </tr>\n",
              "    <tr>\n",
              "      <th>Animes recomendados</th>\n",
              "      <th></th>\n",
              "      <th></th>\n",
              "      <th></th>\n",
              "    </tr>\n",
              "  </thead>\n",
              "  <tbody>\n",
              "    <tr>\n",
              "      <th>Code Geass: Hangyaku no Lelouch</th>\n",
              "      <td>1.000000</td>\n",
              "      <td>25826</td>\n",
              "      <td>7.66</td>\n",
              "    </tr>\n",
              "    <tr>\n",
              "      <th>Code Geass: Hangyaku no Lelouch R2</th>\n",
              "      <td>0.888114</td>\n",
              "      <td>22583</td>\n",
              "      <td>7.77</td>\n",
              "    </tr>\n",
              "    <tr>\n",
              "      <th>Darker than Black: Kuro no Keiyakusha</th>\n",
              "      <td>0.706963</td>\n",
              "      <td>14608</td>\n",
              "      <td>7.02</td>\n",
              "    </tr>\n",
              "    <tr>\n",
              "      <th>Beelzebub</th>\n",
              "      <td>0.706000</td>\n",
              "      <td>5433</td>\n",
              "      <td>6.60</td>\n",
              "    </tr>\n",
              "    <tr>\n",
              "      <th>Clannad</th>\n",
              "      <td>0.699624</td>\n",
              "      <td>20219</td>\n",
              "      <td>7.23</td>\n",
              "    </tr>\n",
              "    <tr>\n",
              "      <th>Claymore</th>\n",
              "      <td>0.693905</td>\n",
              "      <td>11518</td>\n",
              "      <td>6.84</td>\n",
              "    </tr>\n",
              "  </tbody>\n",
              "</table>\n",
              "</div>"
            ],
            "text/plain": [
              "                                       correlação  ...  avaliação média\n",
              "Animes recomendados                                ...                 \n",
              "Code Geass: Hangyaku no Lelouch          1.000000  ...             7.66\n",
              "Code Geass: Hangyaku no Lelouch R2       0.888114  ...             7.77\n",
              "Darker than Black: Kuro no Keiyakusha    0.706963  ...             7.02\n",
              "Beelzebub                                0.706000  ...             6.60\n",
              "Clannad                                  0.699624  ...             7.23\n",
              "Claymore                                 0.693905  ...             6.84\n",
              "\n",
              "[6 rows x 3 columns]"
            ]
          },
          "execution_count": 15,
          "metadata": {
            "tags": []
          },
          "output_type": "execute_result"
        }
      ],
      "source": [
        "recomendar_anime('Code Geass: Hangyaku no Lelouch',5)"
      ]
    },
    {
      "cell_type": "code",
      "execution_count": 16,
      "metadata": {
        "colab": {
          "base_uri": "https://localhost:8080/",
          "height": 283
        },
        "colab_type": "code",
        "id": "SCgzdG65kwH2",
        "outputId": "aadb4b5e-9128-4f06-fb5c-ae21fe2b6b84"
      },
      "outputs": [
        {
          "name": "stdout",
          "output_type": "stream",
          "text": [
            "Anime escolhido: Elfen Lied\n"
          ]
        },
        {
          "data": {
            "text/html": [
              "<div>\n",
              "<style scoped>\n",
              "    .dataframe tbody tr th:only-of-type {\n",
              "        vertical-align: middle;\n",
              "    }\n",
              "\n",
              "    .dataframe tbody tr th {\n",
              "        vertical-align: top;\n",
              "    }\n",
              "\n",
              "    .dataframe thead th {\n",
              "        text-align: right;\n",
              "    }\n",
              "</style>\n",
              "<table border=\"1\" class=\"dataframe\">\n",
              "  <thead>\n",
              "    <tr style=\"text-align: right;\">\n",
              "      <th></th>\n",
              "      <th>correlação</th>\n",
              "      <th>numero de avaliações</th>\n",
              "      <th>avaliação média</th>\n",
              "    </tr>\n",
              "    <tr>\n",
              "      <th>Animes recomendados</th>\n",
              "      <th></th>\n",
              "      <th></th>\n",
              "      <th></th>\n",
              "    </tr>\n",
              "  </thead>\n",
              "  <tbody>\n",
              "    <tr>\n",
              "      <th>Elfen Lied</th>\n",
              "      <td>1.000000</td>\n",
              "      <td>25619</td>\n",
              "      <td>6.77</td>\n",
              "    </tr>\n",
              "    <tr>\n",
              "      <th>Elfen Lied Special</th>\n",
              "      <td>0.754194</td>\n",
              "      <td>7003</td>\n",
              "      <td>5.67</td>\n",
              "    </tr>\n",
              "    <tr>\n",
              "      <th>Chobits</th>\n",
              "      <td>0.727232</td>\n",
              "      <td>11762</td>\n",
              "      <td>6.26</td>\n",
              "    </tr>\n",
              "    <tr>\n",
              "      <th>Shakugan no Shana</th>\n",
              "      <td>0.725577</td>\n",
              "      <td>11277</td>\n",
              "      <td>6.46</td>\n",
              "    </tr>\n",
              "    <tr>\n",
              "      <th>Fate/stay night</th>\n",
              "      <td>0.719264</td>\n",
              "      <td>14041</td>\n",
              "      <td>6.48</td>\n",
              "    </tr>\n",
              "    <tr>\n",
              "      <th>Rosario to Vampire Capu2</th>\n",
              "      <td>0.717943</td>\n",
              "      <td>9568</td>\n",
              "      <td>5.90</td>\n",
              "    </tr>\n",
              "  </tbody>\n",
              "</table>\n",
              "</div>"
            ],
            "text/plain": [
              "                          correlação  numero de avaliações  avaliação média\n",
              "Animes recomendados                                                        \n",
              "Elfen Lied                  1.000000                 25619             6.77\n",
              "Elfen Lied Special          0.754194                  7003             5.67\n",
              "Chobits                     0.727232                 11762             6.26\n",
              "Shakugan no Shana           0.725577                 11277             6.46\n",
              "Fate/stay night             0.719264                 14041             6.48\n",
              "Rosario to Vampire Capu2    0.717943                  9568             5.90"
            ]
          },
          "execution_count": 16,
          "metadata": {
            "tags": []
          },
          "output_type": "execute_result"
        }
      ],
      "source": [
        "recomendar_anime('Elfen Lied',5)"
      ]
    },
    {
      "cell_type": "markdown",
      "metadata": {
        "colab_type": "text",
        "id": "R-eHLeCnlJb9"
      },
      "source": [
        "E, por último, o meu anime preferido: Samurai Champloo"
      ]
    },
    {
      "cell_type": "code",
      "execution_count": 21,
      "metadata": {
        "colab": {
          "base_uri": "https://localhost:8080/",
          "height": 283
        },
        "colab_type": "code",
        "id": "RvVTP9ybk4vU",
        "outputId": "7f014924-8200-47e4-c734-1f3e066efed5"
      },
      "outputs": [
        {
          "name": "stdout",
          "output_type": "stream",
          "text": [
            "Anime escolhido: Samurai Champloo\n"
          ]
        },
        {
          "data": {
            "text/html": [
              "<div>\n",
              "<style scoped>\n",
              "    .dataframe tbody tr th:only-of-type {\n",
              "        vertical-align: middle;\n",
              "    }\n",
              "\n",
              "    .dataframe tbody tr th {\n",
              "        vertical-align: top;\n",
              "    }\n",
              "\n",
              "    .dataframe thead th {\n",
              "        text-align: right;\n",
              "    }\n",
              "</style>\n",
              "<table border=\"1\" class=\"dataframe\">\n",
              "  <thead>\n",
              "    <tr style=\"text-align: right;\">\n",
              "      <th></th>\n",
              "      <th>correlação</th>\n",
              "      <th>numero de avaliações</th>\n",
              "      <th>avaliação média</th>\n",
              "    </tr>\n",
              "    <tr>\n",
              "      <th>Animes recomendados</th>\n",
              "      <th></th>\n",
              "      <th></th>\n",
              "      <th></th>\n",
              "    </tr>\n",
              "  </thead>\n",
              "  <tbody>\n",
              "    <tr>\n",
              "      <th>Samurai Champloo</th>\n",
              "      <td>1.000000</td>\n",
              "      <td>13205</td>\n",
              "      <td>7.25</td>\n",
              "    </tr>\n",
              "    <tr>\n",
              "      <th>Ghost in the Shell: Stand Alone Complex</th>\n",
              "      <td>0.751186</td>\n",
              "      <td>5988</td>\n",
              "      <td>7.05</td>\n",
              "    </tr>\n",
              "    <tr>\n",
              "      <th>Sayonara Zetsubou Sensei</th>\n",
              "      <td>0.749126</td>\n",
              "      <td>5810</td>\n",
              "      <td>6.75</td>\n",
              "    </tr>\n",
              "    <tr>\n",
              "      <th>Full Metal Panic! The Second Raid</th>\n",
              "      <td>0.748453</td>\n",
              "      <td>7708</td>\n",
              "      <td>6.66</td>\n",
              "    </tr>\n",
              "    <tr>\n",
              "      <th>Rurouni Kenshin: Meiji Kenkaku Romantan</th>\n",
              "      <td>0.747438</td>\n",
              "      <td>7462</td>\n",
              "      <td>6.92</td>\n",
              "    </tr>\n",
              "    <tr>\n",
              "      <th>Yuu☆Yuu☆Hakusho</th>\n",
              "      <td>0.738948</td>\n",
              "      <td>6356</td>\n",
              "      <td>6.95</td>\n",
              "    </tr>\n",
              "  </tbody>\n",
              "</table>\n",
              "</div>"
            ],
            "text/plain": [
              "                                         correlação  ...  avaliação média\n",
              "Animes recomendados                                  ...                 \n",
              "Samurai Champloo                           1.000000  ...             7.25\n",
              "Ghost in the Shell: Stand Alone Complex    0.751186  ...             7.05\n",
              "Sayonara Zetsubou Sensei                   0.749126  ...             6.75\n",
              "Full Metal Panic! The Second Raid          0.748453  ...             6.66\n",
              "Rurouni Kenshin: Meiji Kenkaku Romantan    0.747438  ...             6.92\n",
              "Yuu☆Yuu☆Hakusho                            0.738948  ...             6.95\n",
              "\n",
              "[6 rows x 3 columns]"
            ]
          },
          "execution_count": 21,
          "metadata": {
            "tags": []
          },
          "output_type": "execute_result"
        }
      ],
      "source": [
        "recomendar_anime('Samurai Champloo',5)"
      ]
    }
  ],
  "metadata": {
    "colab": {
      "collapsed_sections": [],
      "name": "Recomendador de animes usando matriz de correlação.ipynb",
      "provenance": []
    },
    "kernelspec": {
      "display_name": "Python 3",
      "name": "python3"
    }
  },
  "nbformat": 4,
  "nbformat_minor": 0
}
